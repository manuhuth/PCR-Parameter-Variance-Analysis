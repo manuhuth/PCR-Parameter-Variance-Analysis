{
 "cells": [
  {
   "cell_type": "markdown",
   "metadata": {},
   "source": [
    "--- \n",
    "Project for the course in Computational Statistics | Summer 2020, M.Sc. Economics, Bonn University | [Manuel Huth](https://github.com/manuhuth)\n",
    "\n",
    "# Variance Increase in PCR <a class=\"tocSkip\">   \n",
    "---"
   ]
  },
  {
   "cell_type": "markdown",
   "metadata": {},
   "source": [
    "The following notebook contains ... (one setence)\n",
    "\n",
    "#### Downloading and viewing this notebook\n",
    "\n",
    "* The ensure that every image or format is displayed properly, I recommend to download this notebook from its repository on [GitHub](https://github.com/manuhuth/PCR-Parameter-Variance-Analysis). Other viewing options like _MyBinder_ or _NBViewer_ might have issues to display formulas and formatting.\n",
    "\n",
    "\n",
    "#### Information about the Set up\n",
    "* 2-3 bullet points\n"
   ]
  },
  {
   "cell_type": "markdown",
   "metadata": {},
   "source": [
    "---\n",
    "<h1>Table of Contents<span class=\"tocSkip\"></span></h1>\n",
    "\n",
    "---"
   ]
  },
  {
   "cell_type": "code",
   "execution_count": null,
   "metadata": {},
   "outputs": [],
   "source": [
    "#read R-Files"
   ]
  },
  {
   "cell_type": "markdown",
   "metadata": {},
   "source": [
    "---\n",
    "# 1. Introduction\n",
    "---"
   ]
  },
  {
   "cell_type": "markdown",
   "metadata": {},
   "source": [
    "# 2. PCR Methodology\n",
    "--- \n",
    "\n",
    "# 2.1 General Definitions\n",
    "Let $x_i \\in \\mathbb{M}_{1 \\times p}$ for $i = 1, \\dots n$ be a random vector, such that its entries are independent and follow the same distribution $X_i$ and the collection of these vectors is defined by \n",
    "\n",
    "\\begin{align}\n",
    "X = \\begin{pmatrix} x'_1 \\\\ x'_2 \\\\ \\vdots \\\\ x'_n \\end{pmatrix} \\in \\mathbb{M}_{n \\times p}$ \n",
    "\\end{align}\n",
    "be the matrix of indepedent variables and $\\varepsilon \\in \\mathbb{M}_{1 \\times n}$ a random vector.\n",
    "The data generating process is $Y = \\pmb X \\beta + \\varepsilon$. For ease of notation, we assume the expected value of any covariate and of the dependent variable to be $0$. Hence, $\\text{E} ( \\pmb X ) = \\pmb0$ i.e. $\\text{E}(X_i) = 0$ for $\\forall i$. Since we can demean any linear model, this is not restrictive in any sense.\n",
    "\n",
    "We build $M$ new variables $Z_1, Z_2, \\dots, Z_M$ as orthogonal linear combinations of $X_1, X_2, \\dots, X_p$. Note that $M \\leq p$ otherwise the $Z_m$'s cannot be orthogonal to each other. Denoting the scalars that are used to build $Z_m$ by $\\phi_m$ we can write \n",
    "$$\n",
    "Z_m = \\pmb X \\cdot \\phi_m.\n",
    "$$\n",
    "By defining $\\pmb \\phi = \\begin{pmatrix} \\phi_1 & \\phi_2 & \\dots & \\phi_M \\end{pmatrix}$ we can shorten the above notation to matrix notation. This will later be useful to compute the values for all $Z_m$.\n",
    "$$\\pmb Z = \\begin{pmatrix} Z_1 & Z_2 & \\dots & Z_M \\end{pmatrix} = \\begin{pmatrix} \\pmb X \\cdot \\phi_1 & \\pmb X \\cdot \\phi_2 & \\dots & \\pmb X \\cdot \\phi_M \\end{pmatrix} = \\pmb X \\phi.$$ \n",
    "We follow many textbooks and take $\\pmb \\phi$ as deterministic. However, in practice it is actually a matrix to estimate and therefore adds additional randomness increasing the variance of the estimated $\\pmb Z$ matrix. \n",
    "\n",
    "Note that all $n$ random variables in $Z_{m}$ come from the same distribution and the expected value of the vector $Z_m$ can be computed as\n",
    "$$\\text{E}(Z_m) = \\text{E}(\\pmb X \\cdot \\phi_m) = \\text{E} \\left(\\sum_{j=1}^p X_j \\phi_{jm} \\right) = \\sum_{j=1}^p \\underbrace{E(X_j)}_{= 0} \\phi_{jm} = \\pmb 0.$$\n",
    "Hence, we can express the variance of the components in $Z_m$ as $\\text{E}(Z'_m Z_m) - \\text{E}(Z'_m) \\text{E}(Z_m) = \\text{E}(Z'_m Z_m)$. We can estimate this variance using the sample as $\\frac{1}{n-1} Z'_m Z_m$.\n",
    "\n",
    "In the next step we (recursively) compute the values in $\\pmb \\phi$. For this purpose we start by computing the vector $\\phi_1$. Since the goal is to build uncorrelated variables that carry the maximum variance from $\\pmb X$, we construct $\\phi_1$ such that $Z_1$ has the maxmimum possible variance for any $\\phi_1$ with $||\\phi_1|| = 1$ (can be derived by properties of the *Rayleigh Quotient*). Hence, we need to solve the following problem\n",
    "$$\n",
    "\\phi_1 = \\arg \\max_{||w|| = 1} \\left( \\frac{1}{n-1} Z'_1 Z_1 \\right)= \\arg \\max_{||w|| = 1} \\left( Z'_1 Z_1 \\right)= \\arg \\max_{||w|| = 1} \\left( (\\pmb X w)'(\\pmb X w) \\right) = \\arg \\max_{||w|| = 1} \\underbrace{\\left( \\frac{w' \\pmb X' \\pmb X w}{w'w} \\right)}_{\\text{Rayleigh Quotient}}\n",
    "$$\n",
    "It can be shown that the solution to the Rayleigh Quotient problem is the eigenvector that corresponds to the largest eigenvalue of $X'X$, which is equivalently to the eigenvector that corresponds to the largest eigenvalue of $\\frac{1}{n-1}X'X$. Since the $X_i$'s are demeaned, the latter equals the estimated covariance matrix of the $X_i$ variables. Armed with $\\phi_1$, we can now compute $\\phi_2, \\phi_3, \\dots, \\phi_M$ iteratively by setting $\\pmb X_m = \\pmb X - \\sum_{j = 1}^{m-1} X \\phi'_j \\phi_j$ and solving the former problem for $\\pmb X_m$ to get $\\phi_m$. \n",
    "\n",
    "It turns out that $\\pmb \\phi$ equals the matrix $\\pmb V = \\begin{pmatrix} v_1 & v_2 & \\dots & v_M \\end{pmatrix} $, where $v_i$ is the eigenvector from $X'X$ to the corresponding $i$-th highest eigenvalue $\\lambda_i$. Hence, we can compute $\\pmb \\phi$ by only computing the eigenvectors of $X'X$ and sort them in decending order by the corresponding eigenvalues. Subsequent, $\\pmb Z$ is obtained by matrix multiplication of $\\pmb X$ and $\\pmb \\phi$."
   ]
  },
  {
   "cell_type": "markdown",
   "metadata": {},
   "source": []
  },
  {
   "cell_type": "markdown",
   "metadata": {},
   "source": [
    "# 3. Structural Model"
   ]
  },
  {
   "cell_type": "markdown",
   "metadata": {},
   "source": [
    "# 4. Simulation"
   ]
  },
  {
   "cell_type": "markdown",
   "metadata": {},
   "source": [
    "# 5. Conclusion"
   ]
  },
  {
   "cell_type": "code",
   "execution_count": null,
   "metadata": {},
   "outputs": [],
   "source": [
    "derivaton of pca\n",
    "https://www.stat.cmu.edu/~cshalizi/uADA/12/lectures/ch18.pdf"
   ]
  },
  {
   "cell_type": "markdown",
   "metadata": {},
   "source": [
    "get number of PCA components\n",
    " Kaiser  criterion(Guttman, 1954; Kaiser, 1960)\n",
    " acceleration  factor(Cattell,  1966; Raiche,  Roipel,  and  Blais,2006)and parallel analysis(Horn, 1965)"
   ]
  },
  {
   "cell_type": "markdown",
   "metadata": {},
   "source": [
    "comparison of pca and ridge\n",
    "https://www.researchgate.net/publication/259265422_A_Monte_Carlo_Comparison_between_Ridge_and_Principal_Components_Regression_Methods"
   ]
  },
  {
   "cell_type": "markdown",
   "metadata": {},
   "source": [
    "Introduction\n",
    "- Black  (1997)  shows  that  parents  arewilling to pay a premium to buy a house in a neighborhood with aschool that scores well. (Do  Better  Schools  Matter?  Parental  Valuation  ofElementary  Education) - Havard paper\n",
    "- https://www.researchgate.net/profile/Duncan_Thomas/publication/5194918_Early_Test_Scores_Socioeconomic_Status_and_Future_Outcomes/links/575812c508ae5c6549074510/Early-Test-Scores-Socioeconomic-Status-and-Future-Outcomes.pdf nice to find literature on test scores"
   ]
  },
  {
   "cell_type": "markdown",
   "metadata": {},
   "source": [
    "1. structural model with equation\n",
    "2. relationship $y = X \\beta + \\epsilon$\n",
    "    Xs are correlated -> pcr\n",
    "3. simulate structural model using parameter\n",
    "4. see how large the variance is of the pcr beta and compare to the ones estimated. (can be computed)"
   ]
  }
 ],
 "metadata": {
  "kernelspec": {
   "display_name": "Python 3",
   "language": "python",
   "name": "python3"
  },
  "language_info": {
   "codemirror_mode": {
    "name": "ipython",
    "version": 3
   },
   "file_extension": ".py",
   "mimetype": "text/x-python",
   "name": "python",
   "nbconvert_exporter": "python",
   "pygments_lexer": "ipython3",
   "version": "3.8.3"
  }
 },
 "nbformat": 4,
 "nbformat_minor": 4
}
