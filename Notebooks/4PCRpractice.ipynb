{
 "cells": [
  {
   "cell_type": "markdown",
   "metadata": {},
   "source": [
    "### 2.2.1 PCR in Practice\n",
    "---\n",
    "\n",
    "As derived in subsection $2.1.6$, it is assumed in this subsection that the true $\\pmb C_X$ is unknown and therefore the matrix of eigenvectors $\\pmb \\phi$ is estimated by $\\hat{\\pmb \\phi}$ prior the regression. I will denote $\\beta_Z^s$ with the s-index to indicate the stochastic case.\n",
    "\n",
    "\\begin{align}\n",
    "Y =  \\hat{\\pmb Z} \\beta^s_Z + \\varepsilon_Z = \\pmb X \\hat{\\pmb \\phi} \\beta^s_Z + \\varepsilon_Z,\n",
    "\\tag{2.18}\n",
    "\\end{align}\n",
    "\n",
    "The estimate is given analogously to equation *(2.16)* by\n",
    "\n",
    "\\begin{align}\n",
    "\\hat{\\beta^s}_Z = \\arg \\min\\limits_{b \\in \\mathbb{R}^M} ||Y- \\hat{\\pmb Z} b||^2_2 = \\left (\\hat{\\pmb Z'} \\hat{\\pmb Z} \\right)^{-1} \\hat{\\pmb Z'} Y = \\left (\\hat{\\pmb \\phi'} \\pmb X' \\pmb X \\hat{\\pmb \\phi} \\right)^{-1}\\hat{\\pmb \\phi'} \\pmb X' Y.\n",
    "\\tag{2.19}\n",
    "\\end{align}\n",
    "\n",
    "First, I will derive that the estimate conditioned on $\\hat{\\pmb Z}$ yields the true parameter. This finding indicates, using the law of iterated expectations, that the unconditional parameter is unbiased. Hence, the conditional variance of $\\hat{\\pmb  Z}$ can be computed as in the ordinary OLS case yielding $\\text{Var}(\\hat{\\beta}_Z|\\pmb Z) = \\sigma^2_z \\left(\\hat{\\pmb Z'} \\hat{\\pmb Z} \\right)^{-1}$. The latter three findings are subsequent used to compute the variance of $\\hat{\\pmb  Z}$, making use of the variance decomposition in the same fashion as in equation *(2.17)*.\n",
    "\n",
    "\\begin{align}\n",
    "\\text{E} \\left(  \\hat{\\beta_Z^s} \\mid \\hat{\\pmb Z} \\right) = \\text{E} \\left[ \\left( \\hat{\\pmb Z'} \\hat{\\pmb Z} \\right)^{-1}\\hat{\\pmb Z'} Y  \\mid \\hat{\\pmb Z} \\right] = \\text{E} \\left[ \\left( \\hat{\\pmb Z'} \\hat{\\pmb Z} \\right)^{-1}\\hat{\\pmb Z'} (\\hat{\\pmb Z}\\beta_Z^s + \\varepsilon_Z)  \\mid \\hat{\\pmb Z} \\right] \n",
    "= \\beta_Z^s +  \\text{E} \\left[ \\left( \\hat{\\pmb Z'} \\hat{\\pmb Z} \\right)^{-1}\\hat{\\pmb Z'} \\varepsilon_Z \\mid \\hat{\\pmb Z}  \\right]  = \\beta_Z^s + \\left( \\hat{\\pmb Z'} \\hat{\\pmb Z} \\right)^{-1}\\hat{\\pmb Z'} \\underbrace{\\text{E}  \\left[\\varepsilon_Z \\mid \\hat{\\pmb Z}  \\right]}_{= 0} = \\beta_Z^s\n",
    "\\tag{2.20}\n",
    "\\end{align}\n",
    "\n",
    "\\begin{align}\n",
    "\\text{Var}(\\hat{\\beta}_Z) \\stackrel{\\text{i}}{=} \\text{E} \\left[\\text{Var}(\\hat{\\beta_Z^s}|\\hat{\\pmb Z}) \\right] + \\text{Var} \\left[\\text{E}(\\hat{\\beta^s_Z}| \\hat{\\pmb Z}) \\right] \\stackrel{\\text{ii}}{=} \\text{E} \\left[\\text{Var}(\\hat{\\beta^s_Z}|\\hat{\\pmb Z}) \\right] \\stackrel{\\text{iii}}{=} \\sigma^2_z  \\text{E} \\left[\\left(\\hat{\\pmb Z'} \\hat{\\pmb Z} \\right)^{-1} \\right] = \\sigma^2_z  \\text{E} \\left[\\left(\\hat{\\pmb \\phi'} \\pmb X' \\pmb X \\hat{\\pmb \\phi} \\right)^{-1} \\right]\n",
    "\\tag{2.21}\n",
    "\\end{align}"
   ]
  },
  {
   "cell_type": "code",
   "execution_count": null,
   "metadata": {},
   "outputs": [],
   "source": []
  }
 ],
 "metadata": {
  "kernelspec": {
   "display_name": "Python 3",
   "language": "python",
   "name": "python3"
  },
  "language_info": {
   "codemirror_mode": {
    "name": "ipython",
    "version": 3
   },
   "file_extension": ".py",
   "mimetype": "text/x-python",
   "name": "python",
   "nbconvert_exporter": "python",
   "pygments_lexer": "ipython3",
   "version": "3.7.6"
  }
 },
 "nbformat": 4,
 "nbformat_minor": 4
}
