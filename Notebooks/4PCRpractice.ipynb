{
 "cells": [
  {
   "cell_type": "markdown",
   "metadata": {},
   "source": [
    "### 3.2.2 PCR in Practice\n",
    "---\n",
    "\n",
    "As derived in subsection $2.1.6$, it is assumed in this subsection that the true $\\pmb C_X$ is unknown and therefore the matrix of eigenvectors $\\pmb \\phi$ is estimated by $\\hat{\\pmb \\phi}$ prior the regression. I will denote $\\beta_s$ with the s-index to indicate the stochastic case.\n",
    "\n",
    "\\begin{align}\n",
    "Y =  \\hat{\\pmb Z} \\beta_s + \\varepsilon_Z = \\pmb X \\hat{\\pmb \\phi} \\beta_s + \\varepsilon_Z,\n",
    "\\tag{2.18}\n",
    "\\end{align}\n",
    "\n",
    "The estimate is given analogously to equation *(2.16)* by\n",
    "\n",
    "\\begin{align}\n",
    "\\hat{\\beta}_s = \\arg \\min\\limits_{b \\in \\mathbb{R}^M} ||Y- \\hat{\\pmb Z} b||^2_2 = \\left (\\hat{\\pmb Z'} \\hat{\\pmb Z} \\right)^{-1} \\hat{\\pmb Z'} Y = \\left (\\hat{\\pmb \\phi'} \\pmb X' \\pmb X \\hat{\\pmb \\phi} \\right)^{-1}\\hat{\\pmb \\phi'} \\pmb X' Y.\n",
    "\\tag{2.19}\n",
    "\\end{align}\n",
    "\n",
    "First, I will derive that the estimate conditioned on $\\hat{\\pmb Z}$ yields the true parameter. This finding indicates, using the law of iterated expectations, that the unconditional parameter is unbiased. Hence, the conditional variance of $\\hat{\\pmb  Z}$ can be computed as in the ordinary OLS case yielding $\\text{Var}(\\hat{\\beta}_s|\\pmb Z) = \\sigma^2_z \\left(\\hat{\\pmb Z'} \\hat{\\pmb Z} \\right)^{-1}$. The latter three findings are subsequent used to compute the variance of $\\hat{\\pmb  Z}$, making use of the variance decomposition in the same fashion as in equation *(2.17)*.\n",
    "\n",
    "\\begin{align}\n",
    "\\text{E} \\left(  \\hat{\\beta_s} \\mid \\hat{\\pmb Z} \\right) = \\text{E} \\left[ \\left( \\hat{\\pmb Z'} \\hat{\\pmb Z} \\right)^{-1}\\hat{\\pmb Z'} Y  \\mid \\hat{\\pmb Z} \\right] = \\text{E} \\left[ \\left( \\hat{\\pmb Z'} \\hat{\\pmb Z} \\right)^{-1}\\hat{\\pmb Z'} (\\hat{\\pmb Z}\\beta_Z^s + \\varepsilon_Z)  \\mid \\hat{\\pmb Z} \\right] \n",
    "= \\beta_s +  \\text{E} \\left[ \\left( \\hat{\\pmb Z'} \\hat{\\pmb Z} \\right)^{-1}\\hat{\\pmb Z'} \\varepsilon_Z \\mid \\hat{\\pmb Z}  \\right]  = \\beta_Z^s + \\left( \\hat{\\pmb Z'} \\hat{\\pmb Z} \\right)^{-1}\\hat{\\pmb Z'} \\underbrace{\\text{E}  \\left[\\varepsilon_Z \\mid \\hat{\\pmb Z}  \\right]}_{= 0} = \\beta_Z^s\n",
    "\\tag{2.20}\n",
    "\\end{align}\n",
    "\n",
    "\\begin{align}\n",
    "\\text{Var}(\\hat{\\beta}_s) \\stackrel{\\text{i}}{=} \\text{E} \\left[\\text{Var}(\\hat{\\beta_s}|\\hat{\\pmb Z}) \\right] + \\text{Var} \\left[\\text{E}(\\hat{\\beta_s}| \\hat{\\pmb Z}) \\right] \\stackrel{\\text{ii}}{=} \\text{E} \\left[\\text{Var}(\\hat{\\beta_s}|\\hat{\\pmb Z}) \\right] \\stackrel{\\text{iii}}{=} \\sigma^2_z  \\text{E} \\left[\\left(\\hat{\\pmb Z'} \\hat{\\pmb Z} \\right)^{-1} \\right] = \\sigma^2_z  \\text{E} \\left[\\left(\\hat{\\pmb \\phi'} \\pmb X' \\pmb X \\hat{\\pmb \\phi} \\right)^{-1} \\right] = \\sigma^2_z  \\text{E} \\left[ \\begin{pmatrix} \n",
    "    \\hat{\\lambda_1} & \\dots & 0\\\\\n",
    "    \\vdots & \\vdots & \\vdots \\\\\n",
    "    0 & \\dots & \\hat{\\lambda_M}\n",
    "\\end{pmatrix}^{-1} \\right] = \\sigma^2_z  \\text{E} \\left[ \\begin{pmatrix} \n",
    "    \\hat{\\lambda_1}^{-1} & \\dots & 0\\\\\n",
    "    \\vdots & \\vdots & \\vdots \\\\\n",
    "    0 & \\dots & \\hat{\\lambda_M}^{-1}\n",
    "\\end{pmatrix} \\right]\n",
    "\\tag{2.21}\n",
    "\\end{align}\n",
    "and therefore neither the variance nor the expected value are variant to the choice of the representant in $[\\hat{\\phi}]$."
   ]
  },
  {
   "cell_type": "code",
   "execution_count": null,
   "metadata": {},
   "outputs": [],
   "source": []
  }
 ],
 "metadata": {
  "kernelspec": {
   "display_name": "R",
   "language": "R",
   "name": "ir"
  },
  "language_info": {
   "codemirror_mode": "r",
   "file_extension": ".r",
   "mimetype": "text/x-r-source",
   "name": "R",
   "pygments_lexer": "r",
   "version": "3.6.1"
  }
 },
 "nbformat": 4,
 "nbformat_minor": 4
}
