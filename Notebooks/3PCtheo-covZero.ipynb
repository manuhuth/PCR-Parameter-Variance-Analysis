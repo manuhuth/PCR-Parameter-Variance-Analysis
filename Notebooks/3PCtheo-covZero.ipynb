{
 "cells": [
  {
   "cell_type": "markdown",
   "metadata": {},
   "source": [
    "### 3.1.3 Distribution of the $Z_m$ variables\n",
    "---\n",
    "\n",
    "The exact distributions are dependent on the distributions of the $X_i$ variables, their convolution properties and the eigenvectors $\\phi_m$. Since all $n$ random variables in $z_{m}$ come from the same distribution $Z_m$, they are all the same linear combinations of random vectors $x_i$ with random variables $X_i$ given by\n",
    "\n",
    "\\begin{align}\n",
    " Z_m  = \\begin{pmatrix} X_1 & X_2 & \\dots & X_p \\end{pmatrix} \\phi_m \\Longleftrightarrow \\mathcal{L}\\left( Z_m \\right) = \\mathcal{L} \\left( \\begin{pmatrix} X_1 & X_2 & \\dots & X_p \\end{pmatrix} \\phi_m \\right)\n",
    "    \\tag{3.7}\n",
    "\\end{align}\n",
    "\n",
    "We take a closer look on the first and second moment in the following, since they are used in subsection *3.2* to derive the variance of the beta estimator. The expected value $Z_m$, computed in formula *(3.8)*, is found to be zero. Note that this result does not change if another representant of $[\\phi]$ is chosen.\n",
    "\n",
    "\\begin{align}\n",
    "\\text{E}(Z_m) = \\text{E}(\\begin{pmatrix} X_1 & X_2 & \\dots & X_p \\end{pmatrix} \\cdot \\phi_m) = \\text{E} \\left(\\sum_{j=1}^p X_j \\phi_{jm} \\right) = \\sum_{j=1}^p \\underbrace{E(X_j)}_{= 0} \\phi_{jm} = 0.\n",
    "\\tag{3.8}\n",
    "\\end{align}\n",
    "\n",
    "The variance shows that the covarinces are zero and the variances are equal to the respective eigenvalues of the eigenspaces.\n",
    "\n",
    "\\begin{align}\n",
    "\\pmb C_Z =& \\text{E} \\left( \\begin{pmatrix} Z_1 \\\\ Z_2 \\\\ \\vdots \\\\ Z_M \\end{pmatrix} \\begin{pmatrix} Z_1 & Z_2 & \\dots & Z_M \\end{pmatrix} \\right) =  \\pmb \\phi' \\text{E} \\left( \\begin{pmatrix} X_1 \\\\ X_2 \\\\ \\vdots \\\\ X_p \\end{pmatrix} \\begin{pmatrix} X_1 & X_2 & \\dots & X_p \\end{pmatrix} \\right) \\pmb \\phi = \\pmb \\phi' \\pmb C_X  \\pmb \\phi \\notag\\\\\n",
    "\\stackrel{\\text{eigendecomposition}}{=}& \n",
    "\\pmb \\phi'\n",
    "\\begin{pmatrix} \n",
    "    v_1 & \\dots & v_M \n",
    "\\end{pmatrix}\n",
    "\\begin{pmatrix} \n",
    "    \\lambda_1 & \\dots & 0\\\\\n",
    "    \\vdots & \\vdots & \\vdots \\\\\n",
    "    0 & \\dots & \\lambda_M\n",
    "\\end{pmatrix}\n",
    "\\begin{pmatrix} \n",
    "    v'_1 \\\\ \\vdots \\\\ v'_M \n",
    "\\end{pmatrix}\n",
    "\\pmb \\phi =\n",
    "\\underbrace{\\pmb \\phi'\n",
    "\\pmb \\phi}_{= I_{M \\times M}}\n",
    "\\begin{pmatrix} \n",
    "    \\lambda_1 & \\dots & 0\\\\\n",
    "    \\vdots & \\vdots & \\vdots \\\\\n",
    "    0 & \\dots & \\lambda_M\n",
    "\\end{pmatrix}\n",
    "\\underbrace{\\pmb \\phi'\n",
    "\\pmb \\phi}_{= I_{M \\times M}} = \\begin{pmatrix} \n",
    "    \\lambda_1 & \\dots & 0\\\\\n",
    "    \\vdots & \\vdots & \\vdots \\\\\n",
    "    0 & \\dots & \\lambda_M\n",
    "\\end{pmatrix}\n",
    "\\tag{3.9}\n",
    "\\end{align} \n",
    "\n",
    "Note that since $\\pmb C_X$ is a positive definite matrix, it is ensured that the variance of $Z_m$ is always positive. Moreover, since the eigenvalues are equal for each representant in $[\\phi]$, the result does not change for different choices of the representant. \n",
    "\n",
    "What we also learn from the derivation of equation *(3.9)* is that $\\text{Var}(Z_i) = \\lambda_i \\forall i \\in I$, the $i$-th highest eigenvalue equals the variance of the $i$-th PC. Hence, the proportional variance captured by $Z_m$ is given by\n",
    "\n",
    "\\begin{align}\n",
    "   \\Phi(Z_m) = \\frac{\\lambda_m}{\\sum_{i = 1}^p \\lambda_i}\n",
    "   \\tag{3.10}\n",
    "\\end{align}"
   ]
  },
  {
   "cell_type": "code",
   "execution_count": null,
   "metadata": {},
   "outputs": [],
   "source": []
  }
 ],
 "metadata": {
  "kernelspec": {
   "display_name": "Python 3",
   "language": "python",
   "name": "python3"
  },
  "language_info": {
   "codemirror_mode": {
    "name": "ipython",
    "version": 3
   },
   "file_extension": ".py",
   "mimetype": "text/x-python",
   "name": "python",
   "nbconvert_exporter": "python",
   "pygments_lexer": "ipython3",
   "version": "3.8.3"
  }
 },
 "nbformat": 4,
 "nbformat_minor": 4
}
