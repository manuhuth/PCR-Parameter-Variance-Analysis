{
 "cells": [
  {
   "cell_type": "markdown",
   "metadata": {},
   "source": [
    "---\n",
    "# 4. Simulation\n",
    "---\n",
    "\n",
    "In my simulation study I want to analyze how the variance of the PCR coefficients differ if the true VCV matrix is not known by applying the model introduced in section three. Since the covariances of some model variables are not really trackable and to have a realistic set-up, I decided to simulate a true population from which I will subsequently draw different samples for my analysis to examine the behavior of the parameter variance. "
   ]
  },
  {
   "cell_type": "markdown",
   "metadata": {},
   "source": [
    "## 4.1 Parameterization of the Model\n",
    "\n",
    "To ease the readability I decided to create a table that includes the full name, mathematical abbreviation of section three, the chosen parameterization and a short reasoning why I chose this specific value. \n",
    "\n",
    "**Table X.X - Parameterization**\n",
    "\n",
    "|Dependency| Name | Abbreviation   | Value | Reasoning | Source\n",
    "|------|------|------|------|------|------|\n",
    "|Ability||||||\n",
    "||Variance of Ability | $\\sigma_a$ | 1 | Since ability is not measurable and an artificial variable and an increase of the variance has the same effect as increasing $|\\gamma_{ability}|$. Hence, I decided to choose the standard normal distribution for my parametrization.| -|\n",
    "|General|||||\n",
    "||   Population Size | N | 819,648 | There were 819.648 males aged 33 in 1991 in the UK. To have a realistic set up I decided to use the same number for my simulated population. | [Office for National Statistics](https://www.ons.gov.uk/file?uri=/peoplepopulationandcommunity/populationandmigration/populationestimates/datasets/populationestimatesforukenglandandwalesscotlandandnorthernireland/mid2015/ukandregionalpopulationestimates18382015.zip)|\n",
    "|Years of Schooling||||||\n",
    "||Maximum Years of Schooling| m | 30 | I decided 30 to allow for education between 4 and 34. | - |\n",
    "||Mean/Variance of Years of Schooling | $(\\mu_s, \\sigma_s^2)$ | (13.342, 21.215)  | In the summary Statistics of Blundell et al. (2005) the mean/standard deviation of the years of schooling of an individual are not given. Hence, I decided to use the same moments as for parent's education.  | -| \n",
    "||Minimum Years of Schooling| - | 12 | I decided to use the difference between the school enrollment age and the school leaving age. The latter is 16 in Great Britain. | [British Government](https://www.gov.uk/know-when-you-can-leave-school)|\n",
    "||Persistence of Parent's Education on Children's Education | $q$ | 0.8 | - | -|\n",
    "|Number of Siblings||||||\n",
    "||Decrease in Expected Value of Number of Siblings for each Unit of Parent's Education| $p$ | 0.1 |  In Cygan-Rehm and Maeder (2013) they report this value to be 0.1. | Cygan-Rehm and Maeder (2013)|\n",
    "||Mean/Variance of Number of Siblings | $(\\mu_n, \\sigma_n^2)$ | (1.692, 2.89)  | From the summary Statistics of Blundell et al. (2005) | Blundell et al. (2005) |\n",
    "|Parent's Education||||||\n",
    "|| Mean/Variance of Years Education of Parent's | $(\\mu_e, \\sigma_e^2)$ | (13.342, 21.215)  | In the summary Statistics of Blundell et al. (2005) the mean/standard deviation of father's and mother's education are given. Both are given as the years of education after 6th grade. Hence I transform this by adding six to the mean. The standard deviation is not affected by this transformation. Since the moments do not meaningfully differ for fathers and mothers, I decided to only use the mother's education.  | Blundell et al. (2005) | \n",
    "|Test Scores||||||\n",
    "||Influence of Ability and Parent's Education on the Latent Test Scores| $(\\gamma_{ability},\\gamma_{parent})$ | (2.5,1.5) | I chose $\\gamma_{ability}$ to be higher such that the correlation of ability and the test scores is higher than the correlation of parent's education and the test scores. The magnitude turned out to yield reasonable results. | - |\n",
    "||Proportion of Individuals that Scored a (5, 4, 3, 2, 1) in 7th Grade Math | $Gr_{7,m}$ | (0.141, 0.158, 0.185, 0.190, 0.212)| I chose to use the reported quintiles for each test as |approximation of the probability mass.| Blundell et al. (2005)|\n",
    "||Proportion of Individuals that Scored a (5, 4, 3, 2, 1) in 11th Grade Math | $Gr_{11,m}$ | (0.122,0.152, 0.157, 0.179, 0.199)| I chose to use the reported quintiles for each test as approximation of the probability mass.| Blundell et al. (2005)|\n",
    "||Proportion of Individuals that Scored a (5, 4, 3, 2, 1) in 7th Grade Reading | $Gr_{7,r}$ | (0.166, 0.179, 0.188, 0.187, 0.165)| I chose to use the reported quintiles for each test as approximation of the probability mass.| Blundell et al. (2005)|\n",
    "||Proportion of Individuals that Scored a (5, 4, 3, 2, 1) in 11th Grade Reading | $Gr_{11,r}$ | (0.132, 0.163, 0.163, 0.176, 0.176)| I chose to use the reported quintiles for each test as approximation of the probability mass.| Blundell et al. (2005)|\n",
    "|| Variance of Normally Distributed Errors for Test Scores| $\\sigma^2$| 1 | Higher variance of the error decreases the correlation of ability and parent's education with the test outcomes. This parameter must be seen relatively to $\\gamma_{ability}$ and $\\gamma_{parent}$. Hence, I chose standard normal distributed errors to allow for high correlation between the variables without being forced to use very high values of $\\gamma_{ability}$ and $\\gamma_{parent}$.| - | \n",
    "|Wages||||||\n",
    "||Lower Bounds for the Betas in the Wage Regression | $\\beta^{min}$ | (0.03, 0.01, -0.06, -2, 0.01) | Paper? | Paper? |\n",
    "||Mean/Variance of Logarithmic Wage| $(\\mu_Y, \\sigma^2_Y)$ | (2.040, 1.5) |  Blundell et al. (2005) | Blundell et al. (2005) |\n",
    "||Upper Bounds for the Betas in the Wage Regression | $\\beta^{max}$ | (0.06, 0.06, -0.03, 2, 2) | Paper? | Paper? |\n",
    "||Weighting of Squarred Deviation to Expected Value and Standard Deviation for the Logarithmic Wage | $\\tau$ | 0.5 | I choose equal weights for the Expected Value and the Standard Deviation | - |\n",
    "|Years of Working experience||||||\n",
    "||Age at School Enrollment | $age\\_schoolenrollment$ | 4 | The enrollment age for school of most children is four in Great Britain. |  [British Government](https://www.gov.uk/schools-admissions/school-starting-age)|\n",
    "||Age of all Individuals | $age$ | 33 | I used the value reported in Blundell et al. (2005) | Blundell et al. (2005)|\n",
    "||Probability Mass of Gap Years (0,1,2,3) | - |  (0.4,0.4,0.15,0.05) | - | - |\n",
    "\n"
   ]
  },
  {
   "cell_type": "code",
   "execution_count": null,
   "metadata": {},
   "outputs": [],
   "source": []
  }
 ],
 "metadata": {
  "kernelspec": {
   "display_name": "R",
   "language": "R",
   "name": "ir"
  },
  "language_info": {
   "codemirror_mode": "r",
   "file_extension": ".r",
   "mimetype": "text/x-r-source",
   "name": "R",
   "pygments_lexer": "r",
   "version": "3.6.1"
  }
 },
 "nbformat": 4,
 "nbformat_minor": 4
}
