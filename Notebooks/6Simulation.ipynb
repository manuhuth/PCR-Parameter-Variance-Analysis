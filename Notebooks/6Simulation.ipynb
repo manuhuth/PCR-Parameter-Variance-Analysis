{
 "cells": [
  {
   "cell_type": "markdown",
   "metadata": {},
   "source": [
    "---\n",
    "# 4. Simulation\n",
    "---\n",
    "\n",
    "In my simulation study I want to analyze how the variance of the PCR coefficients differ if the true VCV matrix is not known by applying the model introduced in section three. Since the covariances of some model variables are not really trackable and to have a realistic set-up, I decided to simulate a true population from which I will subsequently draw different samples for my analysis to examine the behavior of the parameter variance. "
   ]
  },
  {
   "cell_type": "markdown",
   "metadata": {},
   "source": [
    "## 4.1 Parameterization of the Model\n",
    "\n",
    "To ease the readability I decided to create a table that includes the full name, mathematical abbreviation of section three, the chosen parameterization and a short reasoning why I chose this specific value. \n",
    "\n",
    "**Table X.X - Parameterization**\n",
    "\n",
    "|Dependency| Name | Abbreviation   | Value | Reasoning | Source\n",
    "|------|------|------|------|------|------|\n",
    "|Ability||||||\n",
    "||Variance of Ability | $\\sigma^2_a$ | 1 | Since ability is not measurable and an artificial variable and an increase of the variance has the same effect as increasing $|\\gamma_{ability}|$. Hence, I decided to choose the standard normal distribution for my parametrization.| -|\n",
    "|Age||||||\n",
    "||Maximum Age | - | 68 | I chose the state pension age as maximum age of the individuals because.| British Government [(2018)](https://www.gov.uk/state-pension-age))|\n",
    "||Minimum Age | - | 33 | I chose the age that is used for the full population in Blundell et al (2005). This has the advantage that all individuals have finished school.| Blundell et al. (2005)|\n",
    "|General|||||\n",
    "|| Population Size | N | 460,000 | In 1991 there were 22,997,199 people in the UK. To reduce computational costs, I decided to set the whole population to around 2\\% of UK's true population in 1991. This still allows me in the simulaton study to draw large samples without having the problem that the samples are very likely to be substantially equal.| [Office for National Statistics](https://www.ons.gov.uk/file?uri=/peoplepopulationandcommunity/populationandmigration/populationestimates/datasets/populationestimatesforukenglandandwalesscotlandandnorthernireland/mid2015/ukandregionalpopulationestimates18382015.zip)|\n",
    "|Number of Siblings||||||\n",
    "||Decrease in Expected Value of Number of Siblings for each Unit of Parent's Education| $p$ | 0.1 |  In Cygan-Rehm and Maeder (2013) they report this value to be 0.1. The model that is used in the paper is a linear model. However, the quantity has the same interpretation and thus I use the same number. | Cygan-Rehm and Maeder (2013)|\n",
    "||Mean/Variance of Number of Siblings | $(\\mu_n, \\sigma_n^2)$ | (1.692, 2.89)  | From the summary Statistics of Blundell et al. (2005) | Blundell et al. (2005) |\n",
    "|Parent's Education||||||\n",
    "|| Mean/Variance of Years Education of Parent's | $(\\mu_e, \\sigma_e^2)$ | (13.342, 21.215)  | In the summary Statistics of Blundell et al. (2005) the mean/standard deviation of father's and mother's education are given. Both are given as the years of education after 6th grade. Hence I did my calculations using the value reported in the paper plus six. Moreover, this transformation does not affect the variance. This is in line with the value reported by the Human Development Report for the United Kingdom in 1991.  Since the moments do not meaningfully differ for fathers and mothers, I decided to only use the mother's education.  | Blundell et al. (2005), [Human Development Report](http://hdr.undp.org/en/indicators/103006) | \n",
    "|Test Scores||||||\n",
    "||Influence of Ability and Parent's Education on the Latent Test Scores| $(\\gamma_{ability},\\gamma_{parent})$ | (2,2) | I chose $\\gamma_{ability}$ and $\\gamma_{parent}$ to be equal. The magnitude turned out to yield reasonable results. | - |\n",
    "||Proportion of Individuals that Scored a (5, 4, 3, 2, 1) in 7th Grade Math | $Gr_{7,m}$ | (0.141, 0.158, 0.185, 0.190, 0.212)| I chose to use the reported quintiles for each test as approximation of the probability mass.| Blundell et al. (2005)|\n",
    "||Proportion of Individuals that Scored a (5, 4, 3, 2, 1) in 11th Grade Math | $Gr_{11,m}$ | (0.122,0.152, 0.157, 0.179, 0.199)| I chose to use the reported quintiles for each test as approximation of the probability mass.| Blundell et al. (2005)|\n",
    "||Proportion of Individuals that Scored a (5, 4, 3, 2, 1) in 7th Grade Reading | $Gr_{7,r}$ | (0.166, 0.179, 0.188, 0.187, 0.165)| I chose to use the reported quintiles for each test as approximation of the probability mass.| Blundell et al. (2005)|\n",
    "||Proportion of Individuals that Scored a (5, 4, 3, 2, 1) in 11th Grade Reading | $Gr_{11,r}$ | (0.132, 0.163, 0.163, 0.176, 0.176)| I chose to use the reported quintiles for each test as approximation of the probability mass.| Blundell et al. (2005)|\n",
    "|| Variance of Normally Distributed Errors for Test Scores| $\\sigma^2$| 1 | Higher variance of the error decreases the correlation of ability and parent's education with the test outcomes. This parameter must be seen relatively to $\\gamma_{ability}$ and $\\gamma_{parent}$. Hence, I chose standard normal distributed errors to allow for high correlation between the variables without being forced to use very high values of $\\gamma_{ability}$ and $\\gamma_{parent}$.| - | \n",
    "|Wages||||||\n",
    "||Lower Bounds for the Betas in the Wage Regression (schooling, working, working_sqr/100, number of Siblings, parent's education)| $\\beta^{min}$ | (0.03, 0.01, -0.06, -10, 0.01) | The values for schooling, work experience and the squared work experience are chosen such that they are close to the values in Björklund and Kjellström (2002). For the number of Siblings I wanted to set a non-binding bound. To allow changes in this, I found it reasonable to also incorporate the constraint in the code and set it to a very high value. Parent's education should have a positive influence on the wages, hence I chose a small positive number. | Björklund and Kjellström (2002) |\n",
    "||Mean/Variance of Logarithmic Wage| $(\\mu_Y, \\sigma^2_Y)$ | (2.040, 1.5) |  Blundell et al. (2005) | Blundell et al. (2005) |\n",
    "||Upper Bounds for the Betas in the Wage Regression (constant, schooling, working, working_sqr/100, number of Siblings, parent's education) | $\\beta^{max}$ | (0.06, 0.06, -0.03, 10, 10) | The values for schooling, work experience and the squared work experience are chosen such that they are close to the values in Björklund and Kjellström (2002). For the number of Siblings and parent's education I wanted to set a non-binding upper bound and thus choose a high value for the coefficients. To allow changes in the latter two quantities, I found it reasonable to also incorporate the constraint in the code.  | Björklund and Kjellström (2002) |\n",
    "||Weighting of Squarred Deviation to Expected Value and Standard Deviation for the Logarithmic Wage | $\\tau$ | 0.5 | I choose equal weights for the Expected Value and the Standard Deviation. A change in $\\tau$ did only change the sresults in a very small magnitude.| - |\n",
    "|Years of Schooling||||||\n",
    "||Maximum Years of Schooling| m | 29 | I decided to allow that an individual did education since it entered school at 4 until the age 33. | - |\n",
    "||Mean/Variance of Years of Schooling | $(\\mu_s, \\sigma_s^2)$ | (13.342, 21.215)  | In the summary Statistics of Blundell et al. (2005) the mean/standard deviation of the years of schooling of an individual are not given. Hence, I decided to use the same moments as for parent's education.  | Blundell et al. (2005)| \n",
    "||Minimum Years of Schooling| - | 0 | I decided to use zero. This comes with the cost that some individuals have unrealistic few years of schooling. However, this helps to stay more in line with the given moments. Setting this to a higher value and modify the structure of the years of schooling is a desirable addition for further analysis. | - |\n",
    "||Persistence of Parent's Education on Children's Education | $q$ | 0.85 | Using the given moments of parent's education and schooling, the coefficient that sets the lower bound for $q$ in equation *3.13* is equal to $\\frac{21.215 - 13.342^2/3}{13.342 - 13.342^2/3} \\approx 0.8288$. Hence, I decided to use 0.85. The choice of the coefficient does not change the results qualitatively. | -|\n",
    "|Years of Working experience||||||\n",
    "||Age at School Enrollment | $age\\_schoolenrollment$ | 4 | The enrollment age for school of most children is four in Great Britain. |  [British Government](https://www.gov.uk/schools-admissions/school-starting-age)|\n",
    "||Probability Mass of Gap Years (0,1,2,3,4) | $F_{gap}$ |  (0.59, 0.11,0.7,0.04, 0.03) | Unfortunately I could not find data for the UK. Holmlund et al. (2008) report swedish data for gap years between schooling and university in 1991. I use this data and assume that everyone that does not go to university does not take gap any gap year.  | Holmlund et al. (2008) |"
   ]
  },
  {
   "cell_type": "markdown",
   "metadata": {},
   "source": [
    "## 4.2 Description of the whole Population\n",
    "\n"
   ]
  },
  {
   "cell_type": "markdown",
   "metadata": {},
   "source": [
    "First I simulate the whole population with the parameterizations presented in section *4.1*. I have wrapped the whole data generating process in a function. The whole function can be found in the Github repository's folder ['R'](https://github.com/manuhuth/PCR-Parameter-Variance-Analysis/tree/master/R) in the file *DGP_function*. Since the data set is very large I decided to simulate it in advance and upload the data to Github. The code I used to simulate is given in the next cell. I have listed the inputs in the same order as they appear in Table X.X. The function additionally allows to tune the optimization to obtain the logarithmic wage. "
   ]
  },
  {
   "cell_type": "code",
   "execution_count": 29,
   "metadata": {},
   "outputs": [],
   "source": [
    "#At the end set this on top of the notebook\n",
    "options(repr.plot.width=8, repr.plot.height=4) #adjust plots\n",
    "\n",
    "setwd('C:/Users/Mhuth/Desktop/PCRPVA')\n",
    "files <- c('PCA_PropVar', 'PCA', 'PCR_cv', 'PCR_predict', 'PCR', 'random_discreteVariables', 'random_VCV', 'DGP_function', 'plot_functions') #names of files to read\n",
    "for (i in 1:length(files)) { #loop to read all files\n",
    "  source(paste('R/', files[i], '.R', sep = ''))\n",
    "}\n",
    "\n",
    "library(gridExtra)\n",
    "library(ggplot2) #later at the beginning"
   ]
  },
  {
   "cell_type": "code",
   "execution_count": 10,
   "metadata": {},
   "outputs": [],
   "source": [
    "set.seed(123)\n",
    "N <- 460000\n",
    "#population <- dgp_model(var_ability = 1, max_age = 68, min_age = 33, n = N, prob_numbSiblings = 0.1, mean_numberSiblings = 1.692, var_numberSiblings = 2.89,\n",
    "#                      mean_parent_educ = 13.342, variance_parent_educ = 21.215,\n",
    "#                      gamma_ability = 2,  gamma_parent_educ = 2,\n",
    "#                      breaks_test7_m = c(0, 0.141, 0.158, 0.185, 0.190, 0.212),  breaks_test11_m = c(0, 0.122,0.152, 0.157, 0.179, 0.199),\n",
    "#                      breaks_test7_r =  c(0, 0.166, 0.179, 0.188, 0.187, 0.165),  breaks_test11_r = c(0, 0.132, 0.163, 0.163, 0.176, 0.176), test_cat = TRUE, var_err = 1,\n",
    "#                      beta_min = c(0.03, 0.01, -0.06, -10, 0.01), mean_wage = 2.040, variance_wage = 1.5,  beta_max = c(0.06, 0.06, -0.03, 10, 10), tau = 0.5,  \n",
    "#                      max_yearsSchooling = 29,  mean_schooling = 13.342, variance_schooling = 21.215, min_yearsSchooling = 0, q = 0.85,\n",
    "#                      age_school_count = 4, probs_gap = c(0.59, 0.11,0.7,0.04, 0.03), gap_years = c(0,1,2,3,4))\n",
    "\n",
    "load(\"SimData/population.RData\")\n",
    "X <- population[c('test7_m', 'test11_m', 'test7_r', 'test11_r', 'parent_educ', 'schooling', 'working')]\n",
    "X <- cbind(X, X$working^2/100)\n",
    "colnames(X) <- c(c('test7_m', 'test11_m', 'test7_r', 'test11_r', 'parent_educ', 'schooling','working', 'working_squ'))"
   ]
  },
  {
   "cell_type": "markdown",
   "metadata": {},
   "source": [
    "**TO-DO** histograms of unstandardized variables to appendix\n",
    "\n",
    "Since I use standardized variables for PCA and PCR I only report the variance-covariance matrix of the standardized variables. The function *scale* uses $N-1$ in the denominator to compute variances and covariances. Since I set the data as the whole population the denominator should actually be $N$. However, this error cancels out by dividing by $(N-1)$ in the subsequent line yielding the true standardized population variance-covariance matrix.  "
   ]
  },
  {
   "cell_type": "code",
   "execution_count": 19,
   "metadata": {},
   "outputs": [],
   "source": [
    "trans <- 'normalized' #saved for later purposes\n",
    "X_stand <- scale(X, center = TRUE, scale = FALSE)  \n",
    "VCV <- t(X_stand)%*%X_stand/(N-1) "
   ]
  },
  {
   "cell_type": "markdown",
   "metadata": {},
   "source": [
    "**TO-DO** Description of VCV matrix\n",
    "\n",
    "**Table X.X - Variance-Covariance Matrix of the Standardized Variables for the whole Population**"
   ]
  },
  {
   "cell_type": "code",
   "execution_count": 17,
   "metadata": {},
   "outputs": [
    {
     "data": {
      "text/html": [
       "<table>\n",
       "<thead><tr><th></th><th scope=col>test7_m</th><th scope=col>test11_m</th><th scope=col>test7_r</th><th scope=col>test11_r</th><th scope=col>parent_educ</th><th scope=col>schooling</th><th scope=col>working</th><th scope=col>working_squ</th></tr></thead>\n",
       "<tbody>\n",
       "\t<tr><th scope=row>test7_m</th><td> 1.950194 </td><td> 1.884764 </td><td> 1.621719 </td><td> 1.592618 </td><td>  3.991133</td><td>  4.333329</td><td> -4.316380</td><td> -2.614319</td></tr>\n",
       "\t<tr><th scope=row>test11_m</th><td> 1.884764 </td><td> 1.862680 </td><td> 1.583705 </td><td> 1.556122 </td><td>  3.903696</td><td>  4.239049</td><td> -4.224449</td><td> -2.560216</td></tr>\n",
       "\t<tr><th scope=row>test7_r</th><td> 1.621719 </td><td> 1.583705 </td><td> 1.909845 </td><td> 1.820743 </td><td>  3.981128</td><td>  4.316861</td><td> -4.297201</td><td> -2.589294</td></tr>\n",
       "\t<tr><th scope=row>test11_r</th><td> 1.592618 </td><td> 1.556122 </td><td> 1.820743 </td><td> 1.838348 </td><td>  3.901102</td><td>  4.231926</td><td> -4.207440</td><td> -2.542100</td></tr>\n",
       "\t<tr><th scope=row>parent_educ</th><td> 3.991133 </td><td> 3.903696 </td><td> 3.981128 </td><td> 3.901102 </td><td> 21.246726</td><td> 18.027008</td><td>-18.001567</td><td>-10.656436</td></tr>\n",
       "\t<tr><th scope=row>schooling</th><td> 4.333329 </td><td> 4.239049 </td><td> 4.316861 </td><td> 4.231926 </td><td> 18.027008</td><td> 18.530230</td><td>-18.499003</td><td>-10.984628</td></tr>\n",
       "\t<tr><th scope=row>working</th><td>-4.316380 </td><td>-4.224449 </td><td>-4.297201 </td><td>-4.207440 </td><td>-18.001567</td><td>-18.499003</td><td>120.760814</td><td> 74.267598</td></tr>\n",
       "\t<tr><th scope=row>working_squ</th><td>-2.614319 </td><td>-2.560216 </td><td>-2.589294 </td><td>-2.542100 </td><td>-10.656436</td><td>-10.984628</td><td> 74.267598</td><td> 47.344183</td></tr>\n",
       "</tbody>\n",
       "</table>\n"
      ],
      "text/latex": [
       "\\begin{tabular}{r|llllllll}\n",
       "  & test7\\_m & test11\\_m & test7\\_r & test11\\_r & parent\\_educ & schooling & working & working\\_squ\\\\\n",
       "\\hline\n",
       "\ttest7\\_m &  1.950194  &  1.884764  &  1.621719  &  1.592618  &   3.991133 &   4.333329 &  -4.316380 &  -2.614319\\\\\n",
       "\ttest11\\_m &  1.884764  &  1.862680  &  1.583705  &  1.556122  &   3.903696 &   4.239049 &  -4.224449 &  -2.560216\\\\\n",
       "\ttest7\\_r &  1.621719  &  1.583705  &  1.909845  &  1.820743  &   3.981128 &   4.316861 &  -4.297201 &  -2.589294\\\\\n",
       "\ttest11\\_r &  1.592618  &  1.556122  &  1.820743  &  1.838348  &   3.901102 &   4.231926 &  -4.207440 &  -2.542100\\\\\n",
       "\tparent\\_educ &  3.991133  &  3.903696  &  3.981128  &  3.901102  &  21.246726 &  18.027008 & -18.001567 & -10.656436\\\\\n",
       "\tschooling &  4.333329  &  4.239049  &  4.316861  &  4.231926  &  18.027008 &  18.530230 & -18.499003 & -10.984628\\\\\n",
       "\tworking & -4.316380  & -4.224449  & -4.297201  & -4.207440  & -18.001567 & -18.499003 & 120.760814 &  74.267598\\\\\n",
       "\tworking\\_squ & -2.614319  & -2.560216  & -2.589294  & -2.542100  & -10.656436 & -10.984628 &  74.267598 &  47.344183\\\\\n",
       "\\end{tabular}\n"
      ],
      "text/markdown": [
       "\n",
       "| <!--/--> | test7_m | test11_m | test7_r | test11_r | parent_educ | schooling | working | working_squ |\n",
       "|---|---|---|---|---|---|---|---|---|\n",
       "| test7_m |  1.950194  |  1.884764  |  1.621719  |  1.592618  |   3.991133 |   4.333329 |  -4.316380 |  -2.614319 |\n",
       "| test11_m |  1.884764  |  1.862680  |  1.583705  |  1.556122  |   3.903696 |   4.239049 |  -4.224449 |  -2.560216 |\n",
       "| test7_r |  1.621719  |  1.583705  |  1.909845  |  1.820743  |   3.981128 |   4.316861 |  -4.297201 |  -2.589294 |\n",
       "| test11_r |  1.592618  |  1.556122  |  1.820743  |  1.838348  |   3.901102 |   4.231926 |  -4.207440 |  -2.542100 |\n",
       "| parent_educ |  3.991133  |  3.903696  |  3.981128  |  3.901102  |  21.246726 |  18.027008 | -18.001567 | -10.656436 |\n",
       "| schooling |  4.333329  |  4.239049  |  4.316861  |  4.231926  |  18.027008 |  18.530230 | -18.499003 | -10.984628 |\n",
       "| working | -4.316380  | -4.224449  | -4.297201  | -4.207440  | -18.001567 | -18.499003 | 120.760814 |  74.267598 |\n",
       "| working_squ | -2.614319  | -2.560216  | -2.589294  | -2.542100  | -10.656436 | -10.984628 |  74.267598 |  47.344183 |\n",
       "\n"
      ],
      "text/plain": [
       "            test7_m   test11_m  test7_r   test11_r  parent_educ schooling \n",
       "test7_m      1.950194  1.884764  1.621719  1.592618   3.991133    4.333329\n",
       "test11_m     1.884764  1.862680  1.583705  1.556122   3.903696    4.239049\n",
       "test7_r      1.621719  1.583705  1.909845  1.820743   3.981128    4.316861\n",
       "test11_r     1.592618  1.556122  1.820743  1.838348   3.901102    4.231926\n",
       "parent_educ  3.991133  3.903696  3.981128  3.901102  21.246726   18.027008\n",
       "schooling    4.333329  4.239049  4.316861  4.231926  18.027008   18.530230\n",
       "working     -4.316380 -4.224449 -4.297201 -4.207440 -18.001567  -18.499003\n",
       "working_squ -2.614319 -2.560216 -2.589294 -2.542100 -10.656436  -10.984628\n",
       "            working    working_squ\n",
       "test7_m      -4.316380  -2.614319 \n",
       "test11_m     -4.224449  -2.560216 \n",
       "test7_r      -4.297201  -2.589294 \n",
       "test11_r     -4.207440  -2.542100 \n",
       "parent_educ -18.001567 -10.656436 \n",
       "schooling   -18.499003 -10.984628 \n",
       "working     120.760814  74.267598 \n",
       "working_squ  74.267598  47.344183 "
      ]
     },
     "metadata": {},
     "output_type": "display_data"
    }
   ],
   "source": [
    "VCV"
   ]
  },
  {
   "cell_type": "markdown",
   "metadata": {},
   "source": [
    "From the variance-covariance matrix we can compute the true matrix of eigenvectors $\\pmb \\phi$ and eigenvalues $\\lambda$."
   ]
  },
  {
   "cell_type": "code",
   "execution_count": 13,
   "metadata": {},
   "outputs": [],
   "source": [
    "phi <- eigen(VCV)$vectors\n",
    "lambda <- eigen(VCV)$values"
   ]
  },
  {
   "cell_type": "markdown",
   "metadata": {},
   "source": [
    "**Table X.X - Eigenvectors of the whole Population Variance-Covariance Matrix of the Standardized Variables**"
   ]
  },
  {
   "cell_type": "code",
   "execution_count": 7,
   "metadata": {},
   "outputs": [
    {
     "data": {
      "text/html": [
       "<table>\n",
       "<tbody>\n",
       "\t<tr><td>-0.3971789   </td><td>0.179214258  </td><td> 0.2558676   </td><td>-0.492516983 </td><td> 0.0428211232</td><td>-0.011280568 </td><td> 1.241045e-02</td><td> 0.7070891398</td></tr>\n",
       "\t<tr><td>-0.3972409   </td><td>0.178752432  </td><td> 0.2546990   </td><td>-0.494033593 </td><td> 0.0392241721</td><td> 0.007511554 </td><td>-5.269890e-03</td><td>-0.7068830809</td></tr>\n",
       "\t<tr><td>-0.3964945   </td><td>0.176034246  </td><td> 0.2294243   </td><td> 0.508252053 </td><td> 0.0461715977</td><td>-0.705756017 </td><td>-2.291929e-02</td><td>-0.0099854341</td></tr>\n",
       "\t<tr><td>-0.3965419   </td><td>0.176409041  </td><td> 0.2314812   </td><td> 0.504526626 </td><td> 0.0471567715</td><td> 0.707509489 </td><td> 2.536034e-02</td><td> 0.0081932756</td></tr>\n",
       "\t<tr><td>-0.3528383   </td><td>0.001418523  </td><td>-0.6908983   </td><td>-0.020474768 </td><td> 0.6306680198</td><td> 0.000514802 </td><td>-6.836487e-05</td><td>-0.0009886973</td></tr>\n",
       "\t<tr><td>-0.3870243   </td><td>0.017236135  </td><td>-0.5054648   </td><td>-0.007950573 </td><td>-0.7705623830</td><td> 0.002021462 </td><td>-2.406783e-02</td><td> 0.0027256095</td></tr>\n",
       "\t<tr><td> 0.2216269   </td><td>0.658682847  </td><td>-0.1122628   </td><td>-0.002844340 </td><td>-0.0006473233</td><td> 0.024118708 </td><td>-7.097486e-01</td><td> 0.0090678749</td></tr>\n",
       "\t<tr><td> 0.2158564   </td><td>0.663068189  </td><td>-0.1341751   </td><td> 0.000214979 </td><td>-0.0276275565</td><td>-0.023854355 </td><td> 7.030843e-01</td><td>-0.0091535166</td></tr>\n",
       "</tbody>\n",
       "</table>\n"
      ],
      "text/latex": [
       "\\begin{tabular}{llllllll}\n",
       "\t -0.3971789    & 0.179214258   &  0.2558676    & -0.492516983  &  0.0428211232 & -0.011280568  &  1.241045e-02 &  0.7070891398\\\\\n",
       "\t -0.3972409    & 0.178752432   &  0.2546990    & -0.494033593  &  0.0392241721 &  0.007511554  & -5.269890e-03 & -0.7068830809\\\\\n",
       "\t -0.3964945    & 0.176034246   &  0.2294243    &  0.508252053  &  0.0461715977 & -0.705756017  & -2.291929e-02 & -0.0099854341\\\\\n",
       "\t -0.3965419    & 0.176409041   &  0.2314812    &  0.504526626  &  0.0471567715 &  0.707509489  &  2.536034e-02 &  0.0081932756\\\\\n",
       "\t -0.3528383    & 0.001418523   & -0.6908983    & -0.020474768  &  0.6306680198 &  0.000514802  & -6.836487e-05 & -0.0009886973\\\\\n",
       "\t -0.3870243    & 0.017236135   & -0.5054648    & -0.007950573  & -0.7705623830 &  0.002021462  & -2.406783e-02 &  0.0027256095\\\\\n",
       "\t  0.2216269    & 0.658682847   & -0.1122628    & -0.002844340  & -0.0006473233 &  0.024118708  & -7.097486e-01 &  0.0090678749\\\\\n",
       "\t  0.2158564    & 0.663068189   & -0.1341751    &  0.000214979  & -0.0276275565 & -0.023854355  &  7.030843e-01 & -0.0091535166\\\\\n",
       "\\end{tabular}\n"
      ],
      "text/markdown": [
       "\n",
       "| -0.3971789    | 0.179214258   |  0.2558676    | -0.492516983  |  0.0428211232 | -0.011280568  |  1.241045e-02 |  0.7070891398 |\n",
       "| -0.3972409    | 0.178752432   |  0.2546990    | -0.494033593  |  0.0392241721 |  0.007511554  | -5.269890e-03 | -0.7068830809 |\n",
       "| -0.3964945    | 0.176034246   |  0.2294243    |  0.508252053  |  0.0461715977 | -0.705756017  | -2.291929e-02 | -0.0099854341 |\n",
       "| -0.3965419    | 0.176409041   |  0.2314812    |  0.504526626  |  0.0471567715 |  0.707509489  |  2.536034e-02 |  0.0081932756 |\n",
       "| -0.3528383    | 0.001418523   | -0.6908983    | -0.020474768  |  0.6306680198 |  0.000514802  | -6.836487e-05 | -0.0009886973 |\n",
       "| -0.3870243    | 0.017236135   | -0.5054648    | -0.007950573  | -0.7705623830 |  0.002021462  | -2.406783e-02 |  0.0027256095 |\n",
       "|  0.2216269    | 0.658682847   | -0.1122628    | -0.002844340  | -0.0006473233 |  0.024118708  | -7.097486e-01 |  0.0090678749 |\n",
       "|  0.2158564    | 0.663068189   | -0.1341751    |  0.000214979  | -0.0276275565 | -0.023854355  |  7.030843e-01 | -0.0091535166 |\n",
       "\n"
      ],
      "text/plain": [
       "     [,1]       [,2]        [,3]       [,4]         [,5]          [,6]        \n",
       "[1,] -0.3971789 0.179214258  0.2558676 -0.492516983  0.0428211232 -0.011280568\n",
       "[2,] -0.3972409 0.178752432  0.2546990 -0.494033593  0.0392241721  0.007511554\n",
       "[3,] -0.3964945 0.176034246  0.2294243  0.508252053  0.0461715977 -0.705756017\n",
       "[4,] -0.3965419 0.176409041  0.2314812  0.504526626  0.0471567715  0.707509489\n",
       "[5,] -0.3528383 0.001418523 -0.6908983 -0.020474768  0.6306680198  0.000514802\n",
       "[6,] -0.3870243 0.017236135 -0.5054648 -0.007950573 -0.7705623830  0.002021462\n",
       "[7,]  0.2216269 0.658682847 -0.1122628 -0.002844340 -0.0006473233  0.024118708\n",
       "[8,]  0.2158564 0.663068189 -0.1341751  0.000214979 -0.0276275565 -0.023854355\n",
       "     [,7]          [,8]         \n",
       "[1,]  1.241045e-02  0.7070891398\n",
       "[2,] -5.269890e-03 -0.7068830809\n",
       "[3,] -2.291929e-02 -0.0099854341\n",
       "[4,]  2.536034e-02  0.0081932756\n",
       "[5,] -6.836487e-05 -0.0009886973\n",
       "[6,] -2.406783e-02  0.0027256095\n",
       "[7,] -7.097486e-01  0.0090678749\n",
       "[8,]  7.030843e-01 -0.0091535166"
      ]
     },
     "metadata": {},
     "output_type": "display_data"
    }
   ],
   "source": [
    "phi"
   ]
  },
  {
   "cell_type": "markdown",
   "metadata": {},
   "source": [
    "## 4.3 Convergence of Eigenvectors and Eigenvalues"
   ]
  },
  {
   "cell_type": "markdown",
   "metadata": {},
   "source": [
    "### 4.3.1 A Simple 2-Dimensional Graphical Illustration"
   ]
  },
  {
   "cell_type": "markdown",
   "metadata": {},
   "source": [
    "Since the eigenvectors are 8-Dimensional, they cannot be illustrated in a graph. Hence, I decided to start with a 2-dimensional case to give a first intuition how $\\hat{\\pmb \\phi}$ converges to $\\pmb \\phi$ if he sample size increases. Moreover, since the direction is invariant to the choice of the representant of $[\\phi]$ the implementation in the two dimensional case is straightforward. For this purpose I decided to use the variables *years of schooling* and *years of parent's education*. I chose these two variables since they have a high correlation of 0.9085 and had the same scale in the unstandardized set-up.   "
   ]
  },
  {
   "cell_type": "code",
   "execution_count": 24,
   "metadata": {},
   "outputs": [],
   "source": [
    "X_2D <- X[ , c('parent_educ', 'schooling' )]\n",
    "pca_2D <- PCA(X_2D, transform = trans)\n",
    "phi_2D <- pca_2D$phi\n",
    "plot_2D <- ggplot(as.data.frame(pca_2D$X_transformed), aes(parent_educ, schooling)) + geom_point() +\n",
    "                geom_abline(aes(intercept = 0, slope = phi_2D[1,1]/phi_2D[2,1], colour = 'first eigenvector'), size = 1) +\n",
    "                labs(colour = '') +\n",
    "                scale_colour_manual(values=c('green', 'red')) +\n",
    "                geom_abline(aes(intercept = 0, slope = phi_2D[1,2]/phi_2D[2,2], colour = 'second eigenvector'), size = 1)"
   ]
  },
  {
   "cell_type": "markdown",
   "metadata": {},
   "source": [
    "**Table X.X - Eigenvectors of the VCV Matrix of Years of Parent's Education and Years of Schooling**"
   ]
  },
  {
   "cell_type": "code",
   "execution_count": 25,
   "metadata": {},
   "outputs": [
    {
     "data": {
      "image/png": "[encoded data removed]",
      "text/plain": [
       "plot without title"
      ]
     },
     "metadata": {},
     "output_type": "display_data"
    }
   ],
   "source": [
    "plot_2D"
   ]
  },
  {
   "cell_type": "markdown",
   "metadata": {},
   "source": [
    "average eigenvectors make no sense -> just increase sample size. Convergence in Probability?"
   ]
  },
  {
   "cell_type": "code",
   "execution_count": 32,
   "metadata": {},
   "outputs": [],
   "source": [
    "set.seed(20)\n",
    "sample_size_2D <- c(20, 100, 500, 2000, 5000, 8000) #determine number of each sample size\n",
    "plots_2D <- lapply(sample_size_2D, plot_2D_data, true_phi = phi_2D, true_X = X_2D, legend = TRUE, transform = trans)\n",
    "legend <- cowplot::get_legend(plots_2D[[1]] + theme(legend.position = \"bottom\")) #cowplot::otherwise cowplot's ggplot theme is loaded\n",
    "p_grid <- cowplot::plot_grid(plotlist = plots_2D, ncol = 3)"
   ]
  },
  {
   "cell_type": "markdown",
   "metadata": {},
   "source": [
    "**Table X.X - Convergence of Eigenvectors of Years of Parent's Education and Years of Schooling by increasing the Sample Size**"
   ]
  },
  {
   "cell_type": "code",
   "execution_count": 33,
   "metadata": {},
   "outputs": [
    {
     "data": {
      "image/png": "[encoded data removed]",
      "text/plain": [
       "plot without title"
      ]
     },
     "metadata": {},
     "output_type": "display_data"
    }
   ],
   "source": [
    "cowplot::plot_grid(p_grid, legend, ncol = 1, rel_heights = c(1, 0.2))"
   ]
  },
  {
   "cell_type": "markdown",
   "metadata": {},
   "source": [
    "### 4.3.2 Convergence in Probability of the Estimated Eigenvectors"
   ]
  },
  {
   "cell_type": "markdown",
   "metadata": {},
   "source": [
    "show that it converges?"
   ]
  },
  {
   "cell_type": "markdown",
   "metadata": {},
   "source": [
    "### 4.3.3 Convergence in Probability of the Absolute Values\n",
    "\n",
    "show what must converge -> phi to true phi -> frobenius norm"
   ]
  },
  {
   "cell_type": "markdown",
   "metadata": {},
   "source": [
    "## 4.4 Variance of the PCR Coefficients $\\hat{\\beta}$"
   ]
  },
  {
   "cell_type": "markdown",
   "metadata": {},
   "source": [
    "The question on how to compute the variance of the estimator arises. There are two possibilities for the theoretical and the stochastic case\n",
    "\n",
    "    1. Simulate whole samples, do PCR and get the variance by the empirical distribution. Problem at practical case since this is variant to the choice of the eigenvectors. No problem at theoretical case \n",
    "    2. Simulate in style of equations *(2.16)* and *(2.21)*. Problem at theoretical case since this is variant to the choice of the eigenvectors \n",
    "\n",
    "    "
   ]
  },
  {
   "cell_type": "code",
   "execution_count": null,
   "metadata": {},
   "outputs": [],
   "source": []
  }
 ],
 "metadata": {
  "kernelspec": {
   "display_name": "R",
   "language": "R",
   "name": "ir"
  },
  "language_info": {
   "codemirror_mode": "r",
   "file_extension": ".r",
   "mimetype": "text/x-r-source",
   "name": "R",
   "pygments_lexer": "r",
   "version": "3.6.1"
  }
 },
 "nbformat": 4,
 "nbformat_minor": 4
}
