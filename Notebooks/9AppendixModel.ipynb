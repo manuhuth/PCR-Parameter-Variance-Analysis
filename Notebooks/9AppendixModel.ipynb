{
 "cells": [
  {
   "cell_type": "markdown",
   "metadata": {},
   "source": [
    "## Appendix - Model"
   ]
  },
  {
   "cell_type": "markdown",
   "metadata": {},
   "source": [
    "### A.6 The cumulative distribution function (cdf) of a random variable is uniform distributed\n",
    "\n",
    "Let $Y = F_X(x)$ be the  cdf of a random variable $X$ with density $f_X(x)$. Since $F_X(x)$ is continous and strictly increasing, it follows that $F_X(x)$ is surjective and injective and hence invertible. The inverse function is denoted by $F^{-1}_x(x)$. $F_Y(y)$, the cdf of the cdf, is defined as $P(Y \\leq y)$. Hence $F_Y(y) = P(Y \\leq y) = P(F_X(x) \\leq y)$. Since $F_X(x) \\in [0,1]$, it follows that $P(F_X(x) \\leq 1) = 1$ and $P(F_X(X) < 0) = 0$. Thus, the case of interest is when $y \\in [0,1]$. Using the inverse, one gets $P(F_X(X) \\leq y) = P(X \\leq F^{-1}_x(y)) = F_X(F^{-1}_x(y)) = y$. Thus, the cdf of $Y$ is given by\n",
    "\n",
    "$ F_Y(y) = \\begin{cases} \n",
    "      0 & ,y < 0 \\\\\n",
    "      y & ,0 \\leq y \\leq 1 \\\\\n",
    "      1 & ,1 < y \n",
    "   \\end{cases},\n",
    "$\n",
    "which is the uniform distribution."
   ]
  },
  {
   "cell_type": "markdown",
   "metadata": {},
   "source": [
    "### A.7 Derivation of the Paramaterization of the Error Term for the Number of Siblings\n",
    "\n",
    "\n",
    "$$\\mu_n = \\text{E}(n_i) = \\text{E}\\left(\\sum_{j = 1}^{m-e_i} B_{i,j} + W_i \\right) =  \\text{E}\\left[ \\text{E}\\left( \\sum_{j = 1}^{m-e_i} B_{ij} | e_i \\right)\\right] + \\frac{\\lambda^{sib}}{1-\\eta^{sib}}  = \\text{E}\\left[ (m - e_i) \\cdot p \\right] + \\frac{\\lambda^{sib}}{1-\\eta^{sib}} = (m - \\mu_{e}) \\cdot p + \\frac{\\lambda^{sib}}{1-\\eta^{sib}}$$\n",
    "\n",
    "using the law of toal variance of formula *(a.8)* for the second equality sign\n",
    "\n",
    "$$\\sigma^2_n = \\text{Var}(n_i) = \\text{Var}\\left(\\sum_{j = 1}^{m-e_i} B_{i,j}\\right) + \\text{Var}(W_i) =  \\text{E}\\left[ \\text{Var}\\left(\\sum_{j = 1}^{m-e_i} B_{i,j}|e_i\\right) \\right] + \\text{Var}\\left[\\text{E}\\left(\\sum_{j = 1}^{m-e_i} B_{i,j}|e_i) \\right) \\right] + \\frac{\\lambda^{sib}}{(1-\\eta^{sib})^3} = \\text{E}[(m-e_i)\\cdot p \\cdot (1-p)] + \\text{Var}[(m-e_i)\\cdot p] + \\frac{\\lambda^{sib}}{(1-\\eta^{sib})^3} = (m-\\mu_e)\\cdot p \\cdot (1-p) + p^2 \\cdot \\sigma^2_s + \\frac{\\lambda^{sib}}{(1-\\eta^{sib})^3}$$\n",
    "\n",
    "from the equations it follows that\n",
    "\\begin{align}\n",
    " \\frac{\\lambda^{sib}}{1-\\eta^{sib}} =& \\mu_n - (m - \\mu_{e}) \\cdot p \\\\\n",
    " \\frac{\\lambda^{sib}}{(1-\\eta^{sib})^3} =& \\sigma^2_n - (m-\\mu_e)\\cdot p \\cdot (1-p) + p^2 \\cdot \\sigma^2_e \n",
    "\\end{align}\n",
    "\n",
    "\\begin{align}\n",
    " \\Longleftrightarrow & \\frac{\\mu_n - (m - \\mu_{e}) \\cdot p}{(1-\\eta^{sib})^2} = \\sigma^2_n - (m-\\mu_e)\\cdot p \\cdot (1-p) + p^2 \\cdot \\sigma^2_s \\\\\n",
    " \\Longleftrightarrow & \\frac{\\mu_n - (m - \\mu_{e}) \\cdot p}{\\sigma^2_n - (m-\\mu_e)\\cdot p \\cdot (1-p) + p^2 \\cdot \\sigma^2_e} =  (1-\\eta^{sib})^2\\\\\n",
    " \\Longleftrightarrow & \\eta^{sib}=  1 - \\left(\\frac{\\mu_n - (m - \\mu_{e}) \\cdot p}{\\sigma^2_N - (m-\\mu_e)\\cdot p \\cdot (1-p) + p^2 \\cdot \\sigma^2_e}\\right)^{0.5} \n",
    "\\end{align}\n",
    "\n",
    "and hence\n",
    "\n",
    "\\begin{equation}\n",
    "\\lambda^{sib} = [\\mu_n - (m - \\mu_{e}) \\cdot p] \\cdot (1-\\eta^{sib})\n",
    "\\end{equation}"
   ]
  },
  {
   "cell_type": "markdown",
   "metadata": {},
   "source": [
    "### A.8 Derivation of the Paramaterization of for the Years of Schooling (k and $\\eta$)\n",
    "\n",
    "Using the law of iterated expectations and the law of total variance formula *(a.8)* it follows that\n",
    "\n",
    "\\begin{align}\n",
    "\\text{E}(W^{sch}_i) =& \\text{E}\\left[\\text{E}\\left(W^{sch}_i|a_i \\right )\\right] = \\text{E}\\left(\\frac{\\lambda_i}{1-\\eta}\\right) = \\frac{1}{1-\\eta}\\text{E}\\left[k \\cdot \\phi(a_i) \\right] = \\frac{k}{2(1-\\eta)} \\\\\n",
    "\\text{Var}(W^{sch}_i) =& \\text{E}\\left[\\text{Var}\\left( W^{sch}_i | a_i \\right) \\right] + \\text{Var}\\left[\\text{E}\\left( W^{sch}_i | a_i \\right) \\right] = \\text{E}\\left( \\frac{\\lambda_i}{(1-\\eta)^3} \\right) + \\text{Var}\\left( \\frac{\\lambda_i}{1-\\eta} \\right) = \\frac{k}{2(1-\\eta)^3} + \\frac{k^2}{12(1-\\eta)^2}\n",
    "\\end{align}\n",
    "\n",
    "with the above formulas and what was derived for the number of siblings. Second step of variance equality sign I make use that ability and parent's years of education are uncorrelated.\n",
    "\n",
    "\\begin{align}\n",
    "    \\mu_{s} =& \\text{E}(s_i) = \\text{E} \\left( \\sum_{j = 1}^{e_i} B_{i,j}^{sch} + W^{sch}_i \\right) =  \\text{E} \\left( \\sum_{j = 1}^{e_i} B_{i,j}^{sch} \\right) + \\text{E} \\left( W^{sch}_i \\right) = \\mu_{e} \\cdot q + \\frac{k}{2(1-\\eta)} \\\\\n",
    "    \\sigma^2_{s} =& \\text{Var}(s_i) = \\text{Var} \\left( \\sum_{j = 1}^{e_i} B_{i,j}^{sch} + W^{sch}_i \\right) = \\text{Var} \\left( \\sum_{j = 1}^{e_i} B_{i,j}^{sch} \\right)  + \\text{Var} \\left( W^{sch}_i \\right) = \\mu_{e} \\cdot q \\cdot (1-q) + \\sigma_{e}^2 \\cdot q + \\frac{k}{2(1-\\eta)^3} + \\frac{k^2}{12(1-\\eta)^2}\n",
    "\\end{align}\n",
    "\n",
    "from the first equation it follows\n",
    "\\begin{align}\n",
    "    \\frac{1}{1-\\eta} = \\frac{2(\\mu_{s} - \\mu_{e}  \\cdot q) }{k}\n",
    "\\end{align}\n",
    "\n",
    "yielding for the second equation that\n",
    "\n",
    "\\begin{align}\n",
    "    \\sigma^2_{s} = \\mu_{e} \\cdot q \\cdot (1-q) + \\sigma_{e}^2 \\cdot q + \\frac{k}{2} \\cdot \\left( \\frac{2(\\mu_{s} - \\mu_{e}  \\cdot q) }{k}\\right)^3 + \\frac{k^2}{12} \\cdot \\left( \\frac{2(\\mu_{s} - \\mu_{e} \\cdot q)  }{k}\\right)^2 \\\\\n",
    "\\Longleftrightarrow \\sigma^2_{s} -  \\mu_{e} \\cdot q \\cdot (1-q) - \\sigma_{e}^2 \\cdot q - \\frac{1}{3} (\\mu_{s} - \\mu_{e} \\cdot q)^2 = 4 \\frac{(\\mu_{s} - \\mu_{e}  \\cdot q)^3 }{k^2} \\\\\n",
    "\\Longleftrightarrow k^2 = \\frac{4(\\mu_{s} - \\mu_{e}  \\cdot q)^3 }{\\sigma^2_{s} -  \\mu_{e} \\cdot q \\cdot (1-q) - \\sigma_{e}^2 \\cdot q - \\frac{1}{3} (\\mu_{s} - \\mu_{e} \\cdot q)^2} \\\\\n",
    "\\Longrightarrow k = \\pm \\left(\\frac{2(\\mu_{s} - \\mu_{e}  \\cdot q)^3 }{\\left[\\sigma^2_{s} - \\mu_{e} \\cdot q \\cdot (1-q) - \\sigma_{e}^2 \\cdot q - \\frac{1}{3} (\\mu_{s} - \\mu_{e} \\cdot q)^2 \\right]}\\right)^{0.5} \n",
    "\\end{align}"
   ]
  },
  {
   "cell_type": "markdown",
   "metadata": {},
   "source": [
    "### A.9 Derivation of the Paramaterization of for the Years of Schooling ($q$)\n",
    "\n",
    "Assuming that $\\sigma^2_{s} = \\sigma^2_{e}$ and that $\\mu_{s} = \\mu_{e}$ it follows\n",
    "\n",
    "\\begin{align}\n",
    "\\sigma^2_{s} - \\mu_{s} \\cdot q \\cdot (1-q) - \\sigma_{s}^2 \\cdot q - \\frac{1}{3} (\\mu_{s} - \\mu_{s} \\cdot q)^2  &> 0 \\\\\n",
    "\\Longleftrightarrow \\qquad \\sigma^2_{s}(1-q) - \\mu_{s} \\cdot q \\cdot (1-q) - \\frac{1}{3} (\\mu_{s} (1-q))^2  &> 0 \\\\\n",
    "\\Longleftrightarrow \\qquad (\\sigma^2_{s} - \\mu_{s} \\cdot q ) (1-q) &> \\frac{1}{3} (\\mu_{s} (1-q))^2 \\\\ \n",
    "\\Longleftrightarrow \\qquad (\\sigma^2_{s} - \\mu_{s} \\cdot q ) &> \\frac{1}{3} \\mu^2_{s} (1-q) \\\\ \n",
    "\\Longleftrightarrow \\qquad (\\sigma^2_{s} - \\mu_{s} \\cdot q ) &> \\frac{1}{3} \\mu^2_{s} - \\frac{1}{3} \\mu^2_{s}q \\\\ \n",
    "\\Longleftrightarrow \\qquad (\\sigma^2_{s} - \\frac{1}{3} \\mu^2_{s}) &> \\mu_{s} \\cdot q   - \\frac{1}{3} \\mu^2_{s}q \\\\ \n",
    "\\Longleftrightarrow \\qquad (\\sigma^2_{s} - \\frac{1}{3} \\mu^2_{s}) &> (\\mu_{s} - \\frac{1}{3} \\mu^2_{s}) \\cdot q  \\\\ \n",
    "\\end{align}\n",
    "\n",
    "if $\\mu_{s} - \\frac{1}{3} \\mu^2_{s} = \\mu_{s}(1 - \\frac{1}{3} \\mu_{s}) < 0$, which is satisfied if $\\mu_{s} > 3$\n",
    "\n",
    "\\begin{align}\n",
    "\\frac{(\\sigma^2_{s} - \\frac{1}{3} \\mu^2_{s})}{(\\mu_{s} - \\frac{1}{3} \\mu^2_{s})} <  q  \n",
    "\\end{align}\n",
    "\n",
    "and if $\\mu_{s} - \\frac{1}{3} \\mu^2_{s} = \\mu_{s}(1 - \\frac{1}{3} \\mu_{s}) > 0$\n",
    "\n",
    "\\begin{align}\n",
    "\\frac{(\\sigma^2_{s} - \\frac{1}{3} \\mu^2_{s})}{(\\mu_{s} - \\frac{1}{3} \\mu^2_{s})} >  q  \n",
    "\\end{align}"
   ]
  },
  {
   "cell_type": "markdown",
   "metadata": {},
   "source": [
    "# References\n",
    "---\n",
    "> Bailey, M. J. (2010). \" Momma's got the pill\": how Anthony Comstock and Griswold v. Connecticut shaped US childbearing. American economic review, 100(1), 98-129.\n",
    "\n",
    "> Björklund, A., & Kjellström, C. (2002). Estimating the return to investments in education: how useful is the standard Mincer equation?. Economics of Education Review, 21(3), 195-210.\n",
    "\n",
    "> Blundell, R., Dearden, L., & Sianesi, B. (2005). Evaluating the effect of education on earnings: models, methods and results from the National Child Development Survey. Journal of the Royal Statistical Society: Series A (Statistics in Society), 168(3), 473-512.\n",
    "\n",
    "> Blundell, R., Pistaferri, L., & Saporta-Eksten, I. (2016). Consumption inequality and family labor supply. American Economic Review, 106(2), 387-435.\n",
    "\n",
    "> British Government. School Starting Age. visited at 10.08.2020 at 19.07. [Link](https://www.gov.uk/schools-admissions/school-starting-age)\n",
    "\n",
    "> British Government. School Leaving Age. visited at 10.08.2020 at 19.17. [Link](https://www.gov.uk/know-when-you-can-leave-school)\n",
    "\n",
    "> Card, D. (2001). Estimating the return to schooling: Progress on some persistent econometric problems. Econometrica, 69(5), 1127-1160.\n",
    "\n",
    "> Cygan-Rehm, K., & Maeder, M. (2013). The effect of education on fertility: Evidence from a compulsory schooling reform. Labour Economics, 25, 35-48.\n",
    "\n",
    "> Consul, P. C., & Jain, G. C. (1973). A generalization of the Poisson distribution. Technometrics, 15(4), 791-799.\n",
    "\n",
    "> Davis-Kean, P. E. (2005). The influence of parent education and family income on child achievement: the indirect role of parental expectations and the home environment. Journal of family psychology, 19(2), 294.\n",
    "\n",
    "> Friedman, J., Hastie, T., & Tibshirani, R. (2001). The elements of statistical learning (Vol. 1, No. 10). New York: Springer series in statistics.\n",
    "\n",
    "> Hansen, K. T., Heckman, J. J., & Mullen, K. J. (2004). The effect of schooling and ability on achievement test scores. Journal of econometrics, 121(1-2), 39-98.\n",
    "\n",
    "> Holmlund, B., Liu, Q., & Nordström Skans, O. (2008). Mind the gap? Estimating the effects of postponing higher education. Oxford Economic Papers, 60(4), 683-710.\n",
    "\n",
    "> Human Development Report (2020). United Nations Development Programme. [Link](http://hdr.undp.org/en/indicators/103006)\n",
    "\n",
    "> James, G., Witten, D., Hastie, T., & Tibshirani, R. (2013). An introduction to statistical learning (Vol. 112, p. 18). New York: springer.\n",
    "\n",
    "> Jung, R. C., & Tremayne, A. R. (2011). Convolution‐closed models for count time series with applications. Journal of Time Series Analysis, 32(3), 268-280.\n",
    "\n",
    "> Office for National Statistics. Population Estimates. visited at 10.08.2020 at 19.02. [Link]((https://www.ons.gov.uk/file?uri=/peoplepopulationandcommunity/populationandmigration/populationestimates/datasets/populationestimatesforukenglandandwalesscotlandandnorthernireland/mid2015/ukandregionalpopulationestimates18382015.zip))\n",
    "\n",
    "> Willis, R. J. (1973). A new approach to the economic theory of fertility behavior. Journal of political Economy, 81(2, Part 2), S14-S64.\n"
   ]
  },
  {
   "cell_type": "code",
   "execution_count": null,
   "metadata": {},
   "outputs": [],
   "source": []
  }
 ],
 "metadata": {
  "kernelspec": {
   "display_name": "Python 3",
   "language": "python",
   "name": "python3"
  },
  "language_info": {
   "codemirror_mode": {
    "name": "ipython",
    "version": 3
   },
   "file_extension": ".py",
   "mimetype": "text/x-python",
   "name": "python",
   "nbconvert_exporter": "python",
   "pygments_lexer": "ipython3",
   "version": "3.8.3"
  }
 },
 "nbformat": 4,
 "nbformat_minor": 4
}
